{
 "cells": [
  {
   "cell_type": "code",
   "execution_count": 3,
   "id": "d75c5933-8026-4200-88fe-fca2f936cfd5",
   "metadata": {},
   "outputs": [
    {
     "name": "stdout",
     "output_type": "stream",
     "text": [
      "Defaulting to user installation because normal site-packages is not writeable\n",
      "Collecting random-word\n",
      "  Downloading Random_Word-1.0.11-py3-none-any.whl (1.2 MB)\n",
      "\u001b[2K     \u001b[38;2;114;156;31m━━━━━━━━━━━━━━━━━━━━━━━━━━━━━━━━━━━━━━━━\u001b[0m \u001b[32m1.2/1.2 MB\u001b[0m \u001b[31m800.6 kB/s\u001b[0m eta \u001b[36m0:00:00\u001b[0m1m818.9 kB/s\u001b[0m eta \u001b[36m0:00:01\u001b[0m\n",
      "\u001b[?25hRequirement already satisfied: requests in /usr/local/lib/python3.10/dist-packages (from random-word) (2.31.0)\n",
      "Collecting pytest\n",
      "  Downloading pytest-8.3.3-py3-none-any.whl (342 kB)\n",
      "\u001b[2K     \u001b[38;2;114;156;31m━━━━━━━━━━━━━━━━━━━━━━━━━━━━━━━━━━━━━━━\u001b[0m \u001b[32m342.3/342.3 KB\u001b[0m \u001b[31m2.7 MB/s\u001b[0m eta \u001b[36m0:00:00\u001b[0m[31m2.3 MB/s\u001b[0m eta \u001b[36m0:00:01\u001b[0m\n",
      "\u001b[?25hRequirement already satisfied: pyyaml in /usr/lib/python3/dist-packages (from random-word) (5.4.1)\n",
      "Requirement already satisfied: packaging in ./.local/lib/python3.10/site-packages (from pytest->random-word) (24.0)\n",
      "Requirement already satisfied: tomli>=1 in /usr/local/lib/python3.10/dist-packages (from pytest->random-word) (2.0.1)\n",
      "Collecting iniconfig\n",
      "  Using cached iniconfig-2.0.0-py3-none-any.whl (5.9 kB)\n",
      "Collecting pluggy<2,>=1.5\n",
      "  Downloading pluggy-1.5.0-py3-none-any.whl (20 kB)\n",
      "Requirement already satisfied: exceptiongroup>=1.0.0rc8 in ./.local/lib/python3.10/site-packages (from pytest->random-word) (1.2.0)\n",
      "Requirement already satisfied: charset-normalizer<4,>=2 in /usr/local/lib/python3.10/dist-packages (from requests->random-word) (3.3.2)\n",
      "Requirement already satisfied: certifi>=2017.4.17 in /usr/lib/python3/dist-packages (from requests->random-word) (2020.6.20)\n",
      "Requirement already satisfied: idna<4,>=2.5 in /usr/lib/python3/dist-packages (from requests->random-word) (3.3)\n",
      "Requirement already satisfied: urllib3<3,>=1.21.1 in /usr/lib/python3/dist-packages (from requests->random-word) (1.26.5)\n",
      "Installing collected packages: pluggy, iniconfig, pytest, random-word\n",
      "Successfully installed iniconfig-2.0.0 pluggy-1.5.0 pytest-8.3.3 random-word-1.0.11\n",
      "Note: you may need to restart the kernel to use updated packages.\n"
     ]
    }
   ],
   "source": [
    "pip install random-word\n"
   ]
  },
  {
   "cell_type": "code",
   "execution_count": 8,
   "id": "68c93163-80a9-4495-897e-ca3ce5013e5d",
   "metadata": {},
   "outputs": [
    {
     "name": "stdout",
     "output_type": "stream",
     "text": [
      " arabs decadescent ductilized scaean clefs intermarginal proboscislike padrones phototube exhumate\n"
     ]
    }
   ],
   "source": [
    "#printing a string with random words\n",
    "\n",
    "from random_word import RandomWords\n",
    "r = RandomWords()\n",
    "\n",
    "# Return a single random word\n",
    "n=10\n",
    "s =\"\"\n",
    "for i in range(0,n):\n",
    "    s = s+\" \"+ r.get_random_word()\n",
    "print(s)\n"
   ]
  },
  {
   "cell_type": "code",
   "execution_count": 10,
   "id": "645b55b3-6e93-4ed2-b937-395a0886f92d",
   "metadata": {},
   "outputs": [
    {
     "name": "stdout",
     "output_type": "stream",
     "text": [
      "original string:   arabs decadescent ductilized scaean clefs intermarginal proboscislike padrones phototube exhumate\n",
      "encrypted string:  b'r\\xbb\\xfe\\t|\\xff\\xea3\\xc8\\xac\\xf6\\x9d\\xbe\\x1b\\xfc\\xa5J\\x8f\\xca\\xdb\\xe6\\x89\\x886!\\xee`e\\xae\\xc3,\\x7f2\\x01\\x07yF\\xd2K\\xdf\\x19c\\x11\\x11:\\xb9\\xc7\\xf0\\x99\\xee\\x08\\xb5\\xe3\\xabe\\x10\\xa3\\xd0D\\x9f\"4\\xe6\\xa1\\xbb\\xb09\\xfc\\xf9\\x82\\xf5K\\x8b\\xac\\x12\\xe1\\xf6\\xd9\\x1e\\x97\\xb7\\x96\\xc5g\\xc1\\xe3\\xd7O\\xb6W\\xcb\\x8c=\\\\i\\x95t\\x81\\x13\\xefy\\x9es\\xf7,F*W)\\xe4\\'\\xaa\\xd9fo\\xf4K\\xd7g&\\x85)f\\x02\\xad\\xb1\\xa6\\xe0'\n",
      "decrypted string:   arabs decadescent ductilized scaean clefs intermarginal proboscislike padrones phototube exhumate\n"
     ]
    }
   ],
   "source": [
    "import rsa\n",
    "\n",
    "publicKey, privateKey = rsa.newkeys(1024)\n",
    "\n",
    "encMessage = rsa.encrypt(s.encode(), \n",
    "                         publicKey)\n",
    "\n",
    "print(\"original string: \", s)\n",
    "print(\"encrypted string: \", encMessage)\n",
    "\n",
    "decMessage = rsa.decrypt(encMessage, privateKey).decode()\n",
    "\n",
    "print(\"decrypted string: \", decMessage)"
   ]
  },
  {
   "cell_type": "code",
   "execution_count": null,
   "id": "9464cc9a-fc28-46b0-89d9-9313a50fece6",
   "metadata": {},
   "outputs": [],
   "source": []
  }
 ],
 "metadata": {
  "kernelspec": {
   "display_name": "Python 3 (ipykernel)",
   "language": "python",
   "name": "python3"
  },
  "language_info": {
   "codemirror_mode": {
    "name": "ipython",
    "version": 3
   },
   "file_extension": ".py",
   "mimetype": "text/x-python",
   "name": "python",
   "nbconvert_exporter": "python",
   "pygments_lexer": "ipython3",
   "version": "3.10.12"
  }
 },
 "nbformat": 4,
 "nbformat_minor": 5
}
