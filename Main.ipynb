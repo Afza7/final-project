{
 "cells": [
  {
   "cell_type": "code",
   "execution_count": 1,
   "id": "d75c5933-8026-4200-88fe-fca2f936cfd5",
   "metadata": {},
   "outputs": [
    {
     "name": "stdout",
     "output_type": "stream",
     "text": [
      "Collecting random-word\n",
      "  Downloading Random_Word-1.0.11-py3-none-any.whl.metadata (4.1 kB)\n",
      "Requirement already satisfied: requests in c:\\users\\arish\\appdata\\local\\programs\\python\\python37\\lib\\site-packages (from random-word) (2.27.1)\n",
      "Requirement already satisfied: pytest in c:\\users\\arish\\appdata\\local\\programs\\python\\python37\\lib\\site-packages (from random-word) (7.4.0)\n",
      "Requirement already satisfied: pyyaml in c:\\users\\arish\\appdata\\local\\programs\\python\\python37\\lib\\site-packages (from random-word) (6.0.1)\n",
      "Requirement already satisfied: iniconfig in c:\\users\\arish\\appdata\\local\\programs\\python\\python37\\lib\\site-packages (from pytest->random-word) (2.0.0)\n",
      "Requirement already satisfied: packaging in c:\\users\\arish\\appdata\\local\\programs\\python\\python37\\lib\\site-packages (from pytest->random-word) (23.1)\n",
      "Requirement already satisfied: pluggy<2.0,>=0.12 in c:\\users\\arish\\appdata\\local\\programs\\python\\python37\\lib\\site-packages (from pytest->random-word) (1.2.0)\n",
      "Requirement already satisfied: exceptiongroup>=1.0.0rc8 in c:\\users\\arish\\appdata\\local\\programs\\python\\python37\\lib\\site-packages (from pytest->random-word) (1.1.2)\n",
      "Requirement already satisfied: tomli>=1.0.0 in c:\\users\\arish\\appdata\\local\\programs\\python\\python37\\lib\\site-packages (from pytest->random-word) (2.0.1)\n",
      "Requirement already satisfied: importlib-metadata>=0.12 in c:\\users\\arish\\appdata\\local\\programs\\python\\python37\\lib\\site-packages (from pytest->random-word) (6.7.0)\n",
      "Requirement already satisfied: colorama in c:\\users\\arish\\appdata\\local\\programs\\python\\python37\\lib\\site-packages (from pytest->random-word) (0.4.6)\n",
      "Requirement already satisfied: urllib3<1.27,>=1.21.1 in c:\\users\\arish\\appdata\\local\\programs\\python\\python37\\lib\\site-packages (from requests->random-word) (1.26.6)\n",
      "Requirement already satisfied: certifi>=2017.4.17 in c:\\users\\arish\\appdata\\local\\programs\\python\\python37\\lib\\site-packages (from requests->random-word) (2023.7.22)\n",
      "Requirement already satisfied: charset-normalizer~=2.0.0 in c:\\users\\arish\\appdata\\local\\programs\\python\\python37\\lib\\site-packages (from requests->random-word) (2.0.12)\n",
      "Requirement already satisfied: idna<4,>=2.5 in c:\\users\\arish\\appdata\\local\\programs\\python\\python37\\lib\\site-packages (from requests->random-word) (3.3)\n",
      "Requirement already satisfied: zipp>=0.5 in c:\\users\\arish\\appdata\\local\\programs\\python\\python37\\lib\\site-packages (from importlib-metadata>=0.12->pytest->random-word) (3.15.0)\n",
      "Requirement already satisfied: typing-extensions>=3.6.4 in c:\\users\\arish\\appdata\\local\\programs\\python\\python37\\lib\\site-packages (from importlib-metadata>=0.12->pytest->random-word) (4.7.1)\n",
      "Downloading Random_Word-1.0.11-py3-none-any.whl (1.2 MB)\n",
      "   ---------------------------------------- 1.2/1.2 MB 1.7 MB/s eta 0:00:00\n",
      "Installing collected packages: random-word\n",
      "Successfully installed random-word-1.0.11\n",
      "Note: you may need to restart the kernel to use updated packages.\n"
     ]
    },
    {
     "name": "stderr",
     "output_type": "stream",
     "text": [
      "\n",
      "[notice] A new release of pip is available: 23.3.1 -> 24.0\n",
      "[notice] To update, run: python.exe -m pip install --upgrade pip\n"
     ]
    }
   ],
   "source": [
    "pip install random-word"
   ]
  },
  {
   "cell_type": "code",
   "execution_count": 6,
   "id": "68c93163-80a9-4495-897e-ca3ce5013e5d",
   "metadata": {},
   "outputs": [
    {
     "name": "stdout",
     "output_type": "stream",
     "text": [
      " minks dynamometers cuadrillero caudocephalad electrothermic phototypic semiexternalized sexologies stuntist minny\n"
     ]
    }
   ],
   "source": [
    "#printing a string with random words\n",
    "\n",
    "from random_word import RandomWords\n",
    "r = RandomWords()\n",
    "\n",
    "# Return a single random word\n",
    "n=10\n",
    "s =\"\"\n",
    "for i in range(0,n):\n",
    "    s = s+\" \"+ r.get_random_word()\n",
    "print(s)\n"
   ]
  },
  {
   "cell_type": "code",
   "execution_count": 10,
   "id": "eb9fa23e",
   "metadata": {},
   "outputs": [
    {
     "name": "stdout",
     "output_type": "stream",
     "text": [
      "Collecting rsa\n",
      "  Downloading rsa-4.9-py3-none-any.whl.metadata (4.2 kB)\n",
      "Collecting pyasn1>=0.1.3 (from rsa)\n",
      "  Downloading pyasn1-0.5.1-py2.py3-none-any.whl.metadata (8.6 kB)\n",
      "Downloading rsa-4.9-py3-none-any.whl (34 kB)\n",
      "Downloading pyasn1-0.5.1-py2.py3-none-any.whl (84 kB)\n",
      "   ---------------------------------------- 84.9/84.9 kB 945.4 kB/s eta 0:00:00\n",
      "Installing collected packages: pyasn1, rsa\n",
      "Successfully installed pyasn1-0.5.1 rsa-4.9\n",
      "Note: you may need to restart the kernel to use updated packages.\n"
     ]
    },
    {
     "name": "stderr",
     "output_type": "stream",
     "text": [
      "\n",
      "[notice] A new release of pip is available: 23.3.1 -> 24.0\n",
      "[notice] To update, run: python.exe -m pip install --upgrade pip\n"
     ]
    }
   ],
   "source": [
    "pip install rsa"
   ]
  },
  {
   "cell_type": "code",
   "execution_count": 11,
   "id": "645b55b3-6e93-4ed2-b937-395a0886f92d",
   "metadata": {},
   "outputs": [
    {
     "name": "stdout",
     "output_type": "stream",
     "text": [
      "original string:   minks dynamometers cuadrillero caudocephalad electrothermic phototypic semiexternalized sexologies stuntist minny\n",
      "encrypted string:  b'vm\\x95\\xc1m\\xca\\'\\xc2m\\xc1Q\\xc6\\xeb\\xbd]\\x14\\xcfl\\xf0O\\xab:\\x9f\\xbf\\x90Q\\x863\\xa3\\xe8\\xe6\\x03.\\xe1\\xd5Rd\\xa5\\xdc\\x9d\"\\xa4\\xff&A\\xb0\\x91\\x93\\x9c\\xf59e7\\xa2,\\x08\\xfd\\xaf\\xbb\\x9bW\\x12\\xed\\xd2%\\xc5\\x9a\\x91m8\\xad\\x1e\\xe6\\x18@R\\x0f\\x95\\xc4\\xe8\\x10|\\xferF\\x9a\\n\\xca\\x14\\xbeT<\\xf6\\xf8V\\xfb\\xe1\\x97\\xb6\\xf8;L\\xc0\\xc50\\x93\\xb6\\xc6N=\\x12\\xe6\\x14%Z\\x08\\x7f\\x13\\xb5\\xd8\\xc8\\xa2E]B\\x0f\\xb4\\t'\n",
      "decrypted string:   minks dynamometers cuadrillero caudocephalad electrothermic phototypic semiexternalized sexologies stuntist minny\n"
     ]
    }
   ],
   "source": [
    "import rsa\n",
    "\n",
    "publicKey, privateKey = rsa.newkeys(1024)\n",
    "\n",
    "encMessage = rsa.encrypt(s.encode(), \n",
    "                         publicKey)\n",
    "\n",
    "print(\"original string: \", s)\n",
    "print(\"encrypted string: \", encMessage)\n",
    "\n",
    "decMessage = rsa.decrypt(encMessage, privateKey).decode()\n",
    "\n",
    "print(\"decrypted string: \", decMessage)"
   ]
  },
  {
   "cell_type": "code",
   "execution_count": 15,
   "id": "9464cc9a-fc28-46b0-89d9-9313a50fece6",
   "metadata": {},
   "outputs": [
    {
     "name": "stdout",
     "output_type": "stream",
     "text": [
      "206d696e6b732064796e616d6f6d6574657273206375616472696c6c65726f20636175646f63657068616c616420656c656374726f746865726d69632070686f746f74797069632073656d6965787465726e616c697a6564207365786f6c6f67696573207374756e74697374206d696e6e79\n"
     ]
    }
   ],
   "source": [
    "hex_representation = s.encode('utf-8').hex()\n",
    "\n",
    "print(hex_representation)"
   ]
  }
 ],
 "metadata": {
  "kernelspec": {
   "display_name": "Python 3",
   "language": "python",
   "name": "python3"
  },
  "language_info": {
   "codemirror_mode": {
    "name": "ipython",
    "version": 3
   },
   "file_extension": ".py",
   "mimetype": "text/x-python",
   "name": "python",
   "nbconvert_exporter": "python",
   "pygments_lexer": "ipython3",
   "version": "3.7.0"
  }
 },
 "nbformat": 4,
 "nbformat_minor": 5
}
