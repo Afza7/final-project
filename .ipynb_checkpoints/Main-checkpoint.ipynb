{
 "cells": [
  {
   "cell_type": "code",
   "execution_count": 1,
   "id": "d75c5933-8026-4200-88fe-fca2f936cfd5",
   "metadata": {},
   "outputs": [
    {
     "name": "stdout",
     "output_type": "stream",
     "text": [
      "Defaulting to user installation because normal site-packages is not writeable\n",
      "Requirement already satisfied: random-word in /home/christina/.local/lib/python3.10/site-packages (1.0.11)\n",
      "Requirement already satisfied: requests in /usr/local/lib/python3.10/dist-packages (from random-word) (2.31.0)\n",
      "Requirement already satisfied: pytest in /home/christina/.local/lib/python3.10/site-packages (from random-word) (8.3.3)\n",
      "Requirement already satisfied: pyyaml in /usr/lib/python3/dist-packages (from random-word) (5.4.1)\n",
      "Requirement already satisfied: pluggy<2,>=1.5 in /home/christina/.local/lib/python3.10/site-packages (from pytest->random-word) (1.5.0)\n",
      "Requirement already satisfied: tomli>=1 in /usr/local/lib/python3.10/dist-packages (from pytest->random-word) (2.0.1)\n",
      "Requirement already satisfied: packaging in /home/christina/.local/lib/python3.10/site-packages (from pytest->random-word) (24.0)\n",
      "Requirement already satisfied: iniconfig in /home/christina/.local/lib/python3.10/site-packages (from pytest->random-word) (2.0.0)\n",
      "Requirement already satisfied: exceptiongroup>=1.0.0rc8 in /home/christina/.local/lib/python3.10/site-packages (from pytest->random-word) (1.2.0)\n",
      "Requirement already satisfied: charset-normalizer<4,>=2 in /usr/local/lib/python3.10/dist-packages (from requests->random-word) (3.3.2)\n",
      "Requirement already satisfied: idna<4,>=2.5 in /usr/lib/python3/dist-packages (from requests->random-word) (3.3)\n",
      "Requirement already satisfied: certifi>=2017.4.17 in /usr/lib/python3/dist-packages (from requests->random-word) (2020.6.20)\n",
      "Requirement already satisfied: urllib3<3,>=1.21.1 in /usr/lib/python3/dist-packages (from requests->random-word) (1.26.5)\n",
      "Note: you may need to restart the kernel to use updated packages.\n"
     ]
    }
   ],
   "source": [
    "pip install random-word\n"
   ]
  },
  {
   "cell_type": "code",
   "execution_count": 1,
   "id": "68c93163-80a9-4495-897e-ca3ce5013e5d",
   "metadata": {},
   "outputs": [
    {
     "name": "stdout",
     "output_type": "stream",
     "text": [
      " reiterates nonsyllogistically twinelike melamines manicaria abmhos incorruptive cacophony doctrinization aiawong\n"
     ]
    }
   ],
   "source": [
    "#printing a string with random words\n",
    "\n",
    "from random_word import RandomWords\n",
    "r = RandomWords()\n",
    "\n",
    "# Return a single random word\n",
    "n=10\n",
    "s =\"\"\n",
    "for i in range(0,n):\n",
    "    s = s+\" \"+ r.get_random_word()\n",
    "print(s)\n"
   ]
  },
  {
   "cell_type": "code",
   "execution_count": 2,
   "id": "645b55b3-6e93-4ed2-b937-395a0886f92d",
   "metadata": {},
   "outputs": [
    {
     "name": "stdout",
     "output_type": "stream",
     "text": [
      "original string:   reiterates nonsyllogistically twinelike melamines manicaria abmhos incorruptive cacophony doctrinization aiawong\n",
      "encrypted string:  b'*\\xc4x\\xeb\\xcc\\x12\\xc6>\\xc9u\\x1d\\x03\\x9e\\x1f}E\\xa0x\\xf4C^g\\x93\\x8f\\x96\\xfb\\x1c\\x94O\\xe3|\\x07_8\\xc1\\x88\\xf6\\xb4B:%y\\x1bza\\x7f\\xb5\\xb3\\x87L\\xfb\\xbd\\xd2M\\xb4[\\r\\x07\\xff\\xae\\x17]{P\\xd0\\xb0;\\x08\\xc7L\\xf1y\\xae\\xa9\\xa2\\x9d\\x06\\xaa\\xaf\\x1c%f\\xe6\\xf9\\x93x\\x13\\xf6\\x17E\\xe1s\\xc3@\\xc5\\xc8(\\x85\\xf1g\\x08\\xa0\\xd6\\refk\\xc1\\x8c\\xa5\\x8dN`\\xbbE\\x96C\\xfd\\x87\\x87\\x8d\\xdf\\x9d)\\xb7\\xe8p\\r'\n",
      "decrypted string:   reiterates nonsyllogistically twinelike melamines manicaria abmhos incorruptive cacophony doctrinization aiawong\n"
     ]
    }
   ],
   "source": [
    "import rsa\n",
    "\n",
    "publicKey, privateKey = rsa.newkeys(1024)\n",
    "\n",
    "encMessage = rsa.encrypt(s.encode(), \n",
    "                         publicKey)\n",
    "\n",
    "print(\"original string: \", s)\n",
    "print(\"encrypted string: \", encMessage)\n",
    "\n",
    "decMessage = rsa.decrypt(encMessage, privateKey).decode()\n",
    "\n",
    "print(\"decrypted string: \", decMessage)\n",
    "\n",
    "df_org = pd.DataFrame({\n",
    "    \n",
    "})"
   ]
  },
  {
   "cell_type": "code",
   "execution_count": 4,
   "id": "9464cc9a-fc28-46b0-89d9-9313a50fece6",
   "metadata": {},
   "outputs": [
    {
     "name": "stdout",
     "output_type": "stream",
     "text": [
      "<class 'str'>\n",
      "b' minks dynamometers cuadrillero caudocephalad electrothermic phototypic semiexternalized sexologies stuntist minny'\n",
      "0x61947ce967c0\n"
     ]
    }
   ],
   "source": [
    "x = \"20 6d 69 6e 6b 73 20 64 796e616d6f6d6574657273206375616472696c6c65726f20636175646f63657068616c616420656c656374726f746865726d69632070686f746f74797069632073656d6965787465726e616c697a6564207365786f6c6f67696573207374756e74697374206d696e6e79\"\n",
    "\n",
    "# Print the type of 'x'\n",
    "print(type(x))  # This will give <class 'str'>\n",
    "\n",
    "# You can print the hex version of the content (in case of a string)\n",
    "x_bytes = bytes.fromhex(x)\n",
    "print(x_bytes)\n",
    "\n",
    "print(hex(id(type(x))))"
   ]
  },
  {
   "cell_type": "code",
   "execution_count": null,
   "id": "ca8bd478-3782-433c-80d4-b6d40c56ab4c",
   "metadata": {},
   "outputs": [],
   "source": []
  },
  {
   "cell_type": "code",
   "execution_count": null,
   "id": "f7939a7d-aa1e-4a84-80af-1890c5196ed6",
   "metadata": {},
   "outputs": [],
   "source": []
  },
  {
   "cell_type": "code",
   "execution_count": 32,
   "id": "ab380cae-2217-4831-9922-f208e6351735",
   "metadata": {},
   "outputs": [
    {
     "name": "stdout",
     "output_type": "stream",
     "text": [
      "length: 6\n",
      "                                                                                                                                                                            0  \\\n",
      "0  [[F0, 7C, 32, D6, C2, 41, 54, CF], [F0, 7C, 32, D6, C2, 41, 54, CF], [F0, 7C, 32, D6, C2, 41, 54, CF], [00, 00, 00, 00, 00, 00, 00, 00], [00, 00, 00, 00, 00, 00, 00, 00]]   \n",
      "\n",
      "                                                                                                                                          1  \\\n",
      "0  [[00, 00, 00, 00, 00, 00, 00, 00], [00, 00, 00, 00, 00, 00, 00, 00], [F0, 7C, 32, D6, C2, 41, 54, CF], [00, 00, 00, 00, 00, 00, 00, 00]]   \n",
      "\n",
      "                                                                                                        2  \\\n",
      "0  [[00, 00, 00, 00, 00, 00, 00, 00], [F0, 7C, 32, D6, C2, 41, 54, CF], [F0, 7C, 32, D6, C2, 41, 54, CF]]   \n",
      "\n",
      "                                                                      3  \\\n",
      "0  [[F0, 7C, 32, D6, C2, 41, 54, CF], [00, 00, 00, 00, 00, 00, 00, 00]]   \n",
      "\n",
      "                                    4  \n",
      "0  [[F0, 7C, 32, D6, C2, 41, 54, CF]]  \n"
     ]
    }
   ],
   "source": [
    "# Assuming 'hex_matrix' is the 2D list we created earlier\n",
    "\n",
    "# Convert hex values to integers, perform XOR, then convert back to hex\n",
    "pd.set_option('display.max_colwidth',None)\n",
    "pd.set_option('display.max_rows',None)\n",
    "difference_files =[]\n",
    "difference_file_n=[]\n",
    "hex_matrix = [\n",
    "['AF', 'C2', '37', '1B', 'F4', '14', '7E', '4A'],\n",
    "['5F', 'BE', '05', 'CD', '36', '55', '2A', '85'],\n",
    "['AF', 'C2', '37', '1B', 'F4', '14', '7E', '4A'],\n",
    "['5F', 'BE', '05', 'CD', '36', '55', '2A', '85'],\n",
    "['5F', 'BE', '05', 'CD', '36', '55', '2A', '85'],\n",
    "['5F', 'BE', '05', 'CD', '36', '55', '2A', '85'],\n",
    "]\n",
    "n = len(hex_matrix)\n",
    "print(\"length:\",n)\n",
    "\n",
    "for i in range(0,n-1):\n",
    "    xor_result = []\n",
    "    for i in range(len(hex_matrix) - 1):\n",
    "        row_xor = [hex(int(hex_matrix[i][j], 16) ^ int(hex_matrix[i+1][j], 16))[2:].upper().zfill(2)\n",
    "                   for j in range(len(hex_matrix[i]))]\n",
    "        xor_result.append(row_xor)\n",
    "    difference_file_n.append(xor_result)\n",
    "    hex_matrix = xor_result\n",
    "difference_files.append(difference_file_n)\n",
    "df1 = pd.DataFrame(difference_files)\n",
    "print(df1)"
   ]
  },
  {
   "cell_type": "code",
   "execution_count": null,
   "id": "656bf2d5-9de2-4371-a444-dad5294ca51c",
   "metadata": {},
   "outputs": [],
   "source": []
  },
  {
   "cell_type": "code",
   "execution_count": null,
   "id": "caebc0e0-71cf-4809-97fe-a3bcfd6ffe66",
   "metadata": {},
   "outputs": [],
   "source": []
  },
  {
   "cell_type": "code",
   "execution_count": 2,
   "id": "0d29fff3-5161-40cb-a9bb-391d1de87c29",
   "metadata": {},
   "outputs": [
    {
     "name": "stdout",
     "output_type": "stream",
     "text": [
      "0    1.0\n",
      "1    3.0\n",
      "2    5.0\n",
      "3    NaN\n",
      "4    6.0\n",
      "5    8.0\n",
      "dtype: float64\n"
     ]
    }
   ],
   "source": [
    "import numpy as np\n",
    "import pandas as pd\n",
    "# series - one dimensional labeled array holding data of any type\n",
    "# dataframe - two dimensional data structure that holds data like a two-dimension array or a table with rows and columns \n",
    "\n",
    "s = pd.Series([1, 3, 5, np.nan, 6, 8])\n",
    "print(s)"
   ]
  },
  {
   "cell_type": "code",
   "execution_count": 5,
   "id": "0f34da82-7ad0-467b-86c1-9bba0ddf969c",
   "metadata": {},
   "outputs": [
    {
     "data": {
      "text/plain": [
       "DatetimeIndex(['2013-01-01', '2013-01-02', '2013-01-03', '2013-01-04',\n",
       "               '2013-01-05', '2013-01-06'],\n",
       "              dtype='datetime64[ns]', freq='D')"
      ]
     },
     "execution_count": 5,
     "metadata": {},
     "output_type": "execute_result"
    }
   ],
   "source": [
    "dates = pd.date_range(\"20130101\",periods=6)\n",
    "dates"
   ]
  },
  {
   "cell_type": "code",
   "execution_count": 8,
   "id": "526b5a14-3551-4b8d-bf2a-87e5a9017d64",
   "metadata": {},
   "outputs": [
    {
     "data": {
      "text/html": [
       "<div>\n",
       "<style scoped>\n",
       "    .dataframe tbody tr th:only-of-type {\n",
       "        vertical-align: middle;\n",
       "    }\n",
       "\n",
       "    .dataframe tbody tr th {\n",
       "        vertical-align: top;\n",
       "    }\n",
       "\n",
       "    .dataframe thead th {\n",
       "        text-align: right;\n",
       "    }\n",
       "</style>\n",
       "<table border=\"1\" class=\"dataframe\">\n",
       "  <thead>\n",
       "    <tr style=\"text-align: right;\">\n",
       "      <th></th>\n",
       "      <th>A</th>\n",
       "      <th>B</th>\n",
       "      <th>C</th>\n",
       "      <th>D</th>\n",
       "    </tr>\n",
       "  </thead>\n",
       "  <tbody>\n",
       "    <tr>\n",
       "      <th>2013-01-01</th>\n",
       "      <td>0.237432</td>\n",
       "      <td>1.708230</td>\n",
       "      <td>-1.572608</td>\n",
       "      <td>1.522604</td>\n",
       "    </tr>\n",
       "    <tr>\n",
       "      <th>2013-01-02</th>\n",
       "      <td>-1.351025</td>\n",
       "      <td>1.330259</td>\n",
       "      <td>-2.510799</td>\n",
       "      <td>0.268327</td>\n",
       "    </tr>\n",
       "    <tr>\n",
       "      <th>2013-01-03</th>\n",
       "      <td>-0.498089</td>\n",
       "      <td>1.280624</td>\n",
       "      <td>1.719163</td>\n",
       "      <td>-1.574327</td>\n",
       "    </tr>\n",
       "    <tr>\n",
       "      <th>2013-01-04</th>\n",
       "      <td>-0.251145</td>\n",
       "      <td>-0.227013</td>\n",
       "      <td>0.108554</td>\n",
       "      <td>-0.277467</td>\n",
       "    </tr>\n",
       "    <tr>\n",
       "      <th>2013-01-05</th>\n",
       "      <td>0.646890</td>\n",
       "      <td>0.031879</td>\n",
       "      <td>-0.887299</td>\n",
       "      <td>0.993802</td>\n",
       "    </tr>\n",
       "    <tr>\n",
       "      <th>2013-01-06</th>\n",
       "      <td>0.245333</td>\n",
       "      <td>0.165787</td>\n",
       "      <td>0.417764</td>\n",
       "      <td>-1.214387</td>\n",
       "    </tr>\n",
       "  </tbody>\n",
       "</table>\n",
       "</div>"
      ],
      "text/plain": [
       "                   A         B         C         D\n",
       "2013-01-01  0.237432  1.708230 -1.572608  1.522604\n",
       "2013-01-02 -1.351025  1.330259 -2.510799  0.268327\n",
       "2013-01-03 -0.498089  1.280624  1.719163 -1.574327\n",
       "2013-01-04 -0.251145 -0.227013  0.108554 -0.277467\n",
       "2013-01-05  0.646890  0.031879 -0.887299  0.993802\n",
       "2013-01-06  0.245333  0.165787  0.417764 -1.214387"
      ]
     },
     "execution_count": 8,
     "metadata": {},
     "output_type": "execute_result"
    }
   ],
   "source": [
    "df = pd.DataFrame(np.random.randn(6, 4), index=dates, columns=list(\"ABCD\"))\n",
    "df"
   ]
  },
  {
   "cell_type": "code",
   "execution_count": null,
   "id": "4fc634e5-00ca-4d91-a4a2-12933ee31a7e",
   "metadata": {},
   "outputs": [],
   "source": []
  }
 ],
 "metadata": {
  "kernelspec": {
   "display_name": "Python 3 (ipykernel)",
   "language": "python",
   "name": "python3"
  },
  "language_info": {
   "codemirror_mode": {
    "name": "ipython",
    "version": 3
   },
   "file_extension": ".py",
   "mimetype": "text/x-python",
   "name": "python",
   "nbconvert_exporter": "python",
   "pygments_lexer": "ipython3",
   "version": "3.10.12"
  }
 },
 "nbformat": 4,
 "nbformat_minor": 5
}
