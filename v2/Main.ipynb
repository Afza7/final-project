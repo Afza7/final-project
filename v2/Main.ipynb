{
 "cells": [
  {
   "cell_type": "code",
   "execution_count": 1,
   "id": "d75c5933-8026-4200-88fe-fca2f936cfd5",
   "metadata": {},
   "outputs": [
    {
     "name": "stdout",
     "output_type": "stream",
     "text": [
      "Defaulting to user installation because normal site-packages is not writeable\n",
      "Requirement already satisfied: random-word in /home/christina/.local/lib/python3.10/site-packages (1.0.11)\n",
      "Requirement already satisfied: pyyaml in /usr/lib/python3/dist-packages (from random-word) (5.4.1)\n",
      "Requirement already satisfied: requests in /usr/local/lib/python3.10/dist-packages (from random-word) (2.31.0)\n",
      "Requirement already satisfied: pytest in /home/christina/.local/lib/python3.10/site-packages (from random-word) (8.3.3)\n",
      "Requirement already satisfied: tomli>=1 in /usr/local/lib/python3.10/dist-packages (from pytest->random-word) (2.0.1)\n",
      "Requirement already satisfied: packaging in /home/christina/.local/lib/python3.10/site-packages (from pytest->random-word) (24.0)\n",
      "Requirement already satisfied: iniconfig in /home/christina/.local/lib/python3.10/site-packages (from pytest->random-word) (2.0.0)\n",
      "Requirement already satisfied: pluggy<2,>=1.5 in /home/christina/.local/lib/python3.10/site-packages (from pytest->random-word) (1.5.0)\n",
      "Requirement already satisfied: exceptiongroup>=1.0.0rc8 in /home/christina/.local/lib/python3.10/site-packages (from pytest->random-word) (1.2.0)\n",
      "Requirement already satisfied: urllib3<3,>=1.21.1 in /usr/lib/python3/dist-packages (from requests->random-word) (1.26.5)\n",
      "Requirement already satisfied: idna<4,>=2.5 in /usr/lib/python3/dist-packages (from requests->random-word) (3.3)\n",
      "Requirement already satisfied: charset-normalizer<4,>=2 in /usr/local/lib/python3.10/dist-packages (from requests->random-word) (3.3.2)\n",
      "Requirement already satisfied: certifi>=2017.4.17 in /usr/lib/python3/dist-packages (from requests->random-word) (2020.6.20)\n",
      "Note: you may need to restart the kernel to use updated packages.\n"
     ]
    }
   ],
   "source": [
    "pip install random-word\n"
   ]
  },
  {
   "cell_type": "code",
   "execution_count": 2,
   "id": "68c93163-80a9-4495-897e-ca3ce5013e5d",
   "metadata": {},
   "outputs": [
    {
     "name": "stdout",
     "output_type": "stream",
     "text": [
      " almagest unexpostulating laydown ferulae bolloxed garotter mycetomas pinacol fustigator conceptualised\n"
     ]
    }
   ],
   "source": [
    "#printing a string with random words\n",
    "\n",
    "from random_word import RandomWords\n",
    "r = RandomWords()\n",
    "\n",
    "# Return a single random word\n",
    "n=10\n",
    "s =\"\"\n",
    "for i in range(0,n):\n",
    "    s = s+\" \"+ r.get_random_word()\n",
    "print(s)\n"
   ]
  },
  {
   "cell_type": "code",
   "execution_count": 1,
   "id": "5154b8c1-8094-4625-b686-842188162d39",
   "metadata": {},
   "outputs": [
    {
     "name": "stdout",
     "output_type": "stream",
     "text": [
      "Original string:  rhinoscopy graptolitoidea underdose periphrasing normalness circumcinct pseudomemory thermopleion psalterial fourchette\n",
      "['5C', '03', 'F2', '20', '04', '46', 'AD', '66']\n",
      "['82', '9F', '85', 'A7', '86', '8A', 'FB', '6E']\n",
      "['ED', '31', '11', '91', '37', 'E5', '72', '55']\n",
      "['D4', '73', 'B4', 'EC', '98', 'A5', 'D5', '3E']\n",
      "['1D', '07', 'CF', '12', '79', '7D', 'C9', 'EF']\n",
      "['36', '97', 'ED', 'FA', '4B', '60', '3B', '9E']\n",
      "['C9', 'C2', '4D', '24', '04', '69', '18', '02']\n",
      "['E9', '37', '70', '0F', '9A', 'B3', 'A6', '67']\n",
      "['48', '37', 'CA', '1B', '3B', 'CE', '3E', '79']\n",
      "['4D', 'E3', '8F', 'A8', '58', '84', '61', '58']\n",
      "['EE', '04', 'C0', '35', '90', '35', '60', 'D9']\n",
      "['D6', '68', 'DF', 'F3', 'A3', '91', 'B9', 'BC']\n",
      "['EE', '14', 'ED', '14', '4A', '8A', '03', '1D']\n",
      "['B8', '39', 'B4', '42', 'B5', '31', '1A', 'BD']\n",
      "['BA', '5F', 'A6', 'ED', 'C6', '9A', '6D', 'A1']\n",
      "['BE', 'AA', '2F', '91', 'DF', '56', '44', 'D9']\n",
      "['ED', '3A', '26', 'C8', '01', 'C0', 'C6', '8F']\n",
      "['18', '5A', '8A', '75', 'F9', '85', '2D', 'CE']\n",
      "['07', '4B', '8A', '93', 'C2', 'D3', '96', '58']\n",
      "['1F', 'AB', '37', '5B', 'DF', 'C7', '11', 'BF']\n",
      "['7A', 'BD', 'FC', 'F9', 'A1', '3C', '04', '5F']\n",
      "['95', 'F8', '7E', 'B0', 'BF', 'D3', '3F', '0E']\n",
      "['08', 'D0', 'EB', '7C', '9F', '60', 'D6', '35']\n",
      "['A8', 'DB', 'EA', 'B5', 'B4', 'DE', '7A', '65']\n",
      "['C3', 'DD', '8C', '9A', '48', 'FD', '40', 'EE']\n",
      "['76', '9B', '2C', 'F1', 'F9', '96', '4E', '6F']\n",
      "['76', 'FB', 'EB', '22', '7B', '4D', 'F0', '13']\n",
      "['A6', '13', '9F', '41', 'B4', '24', '4F', 'A0']\n",
      "['42', 'C4', '75', 'D6', '18', 'A1', '75', 'CC']\n",
      "['3A', 'FC', '8D', '55', '94', '63', '33', '3F']\n",
      "['68', 'A0', '15', '7D', '45', '5B', '67', '07']\n",
      "['2E', '02', 'F8', '7B', '96', '0C', '08', '79']\n",
      "length: 32\n",
      "Original string:  shushes coralloid redistillableness resamples livelihood sally steeplechases candidacy extricated antecedaneous\n",
      "['6A', '84', 'DD', '34', 'C5', 'EC', 'E4', '9F']\n",
      "['EF', '58', '7C', '2F', 'F7', '5A', 'F7', '22']\n",
      "['C4', '1B', '55', '99', 'DF', '8B', '3E', 'A5']\n",
      "['01', 'A6', '8F', '26', '4D', 'FE', '85', '90']\n",
      "['09', '73', 'AC', 'D0', '7B', '81', 'E6', '46']\n",
      "['C3', 'D2', '7E', '23', '46', 'AC', 'D4', '25']\n",
      "['C2', 'EB', '58', '05', 'DC', '0E', '61', '5D']\n",
      "['83', 'CA', '51', 'EA', '28', '77', 'B3', 'F8']\n",
      "['29', 'D6', '6C', '37', '4B', 'FB', '44', '69']\n",
      "['70', '7B', '0D', '88', '13', 'A3', '89', '42']\n",
      "['40', '29', '5A', 'CB', '31', '0F', '53', '0B']\n",
      "['09', '53', 'F2', '19', '51', 'BF', 'B6', '33']\n",
      "['78', '30', '9F', '6A', '10', '96', '35', '1D']\n",
      "['09', '55', '65', 'DE', 'FB', 'AB', '7A', '96']\n",
      "['46', '7E', '55', 'AA', '28', 'D3', '20', '3B']\n",
      "['3C', 'EB', '0E', 'FD', '7F', '37', '4A', 'F0']\n",
      "['ED', '18', 'F4', '77', '25', 'BE', '55', '13']\n",
      "['6B', '4C', 'BF', '8E', '2E', 'AA', 'B1', '78']\n",
      "['CC', '36', '90', '94', '40', 'A3', '82', '28']\n",
      "['AF', '50', '6B', 'AA', 'CF', 'BC', '2B', '4E']\n",
      "['37', '79', '24', '53', 'EE', '14', '8F', '49']\n",
      "['3A', 'EE', '2F', '69', '01', 'BD', '36', '11']\n",
      "['B2', 'BF', 'EC', '6B', '9A', '9B', '21', 'E1']\n",
      "['27', 'C8', '44', 'F6', '0E', '8A', 'EB', 'C9']\n",
      "['E5', '27', 'E0', 'B9', '37', '4C', 'B1', 'AC']\n",
      "['69', '97', '96', 'E4', 'FF', 'A5', '81', 'AC']\n",
      "['2C', '37', '49', 'F0', 'B4', 'B7', '7C', '22']\n",
      "['99', '81', '59', 'A1', '4D', '8A', '84', 'D9']\n",
      "['B6', 'B3', 'E8', 'D4', 'BC', '75', '16', '65']\n",
      "['F7', '4A', '4F', '7F', '4D', 'BD', '2A', 'DD']\n",
      "['45', '6A', '63', '50', 'A4', 'DB', '13', '2B']\n",
      "['5C', '27', '9C', 'EC', '2C', '38', '32', '20']\n",
      "length: 32\n"
     ]
    }
   ],
   "source": [
    "import rsa\n",
    "import numpy as np\n",
    "import pandas as pd\n",
    "from random_word import RandomWords\n",
    "pd.set_option('display.max_colwidth',None)\n",
    "pd.set_option('display.max_rows',None)\n",
    "r = RandomWords()\n",
    "no=10\n",
    "\n",
    "dataset = []\n",
    "c=1\n",
    "for i in range(0,2):\n",
    "    difference_files =[] \n",
    "    s =\"\"\n",
    "    for i in range(0,no):\n",
    "        s = s+\" \"+ r.get_random_word()\n",
    "    # Generate public and private keys\n",
    "    publicKey, privateKey = rsa.newkeys(2048)\n",
    "    \n",
    "    # Encrypt the message\n",
    "    encMessage = rsa.encrypt(s.encode(), publicKey)\n",
    "    \n",
    "    # Print the original and decrypted messages\n",
    "    print(\"Original string:\", s)\n",
    "    # difference_files.append(s)\n",
    "    # difference_files.append(\"RSA\")\n",
    "    \n",
    "    # Convert the encrypted message to a hexadecimal matrix\n",
    "    hex_string = encMessage.hex()\n",
    "    # difference_files.append(hex_string)\n",
    "    hex_matrix = [hex_string[i:i+2].upper() for i in range(0, len(hex_string), 2)]\n",
    "    \n",
    "    # Format the hex matrix into an 8x8 structure\n",
    "    hex_matrix = [hex_matrix[i:i+8] for i in range(0, len(hex_matrix), 8)]\n",
    "    for row in hex_matrix:\n",
    "        print(row)\n",
    "    n = len(hex_matrix)\n",
    "    print(\"length:\",n)\n",
    "    \n",
    "    for i in range(0,n):\n",
    "        xor_result = []\n",
    "        difference_file_n=[]\n",
    "        for i in range(len(hex_matrix) - 1):\n",
    "            row_xor = [hex(int(hex_matrix[i][j], 16) ^ int(hex_matrix[i+1][j], 16))[2:].upper().zfill(2)\n",
    "                       for j in range(len(hex_matrix[i]))]\n",
    "            xor_result.append(row_xor)\n",
    "            difference_file_n.append(xor_result)\n",
    "        hex_matrix = xor_result\n",
    "        difference_files.append(difference_file_n)\n",
    "        # difference_files.append(s)\n",
    "        # difference_files.append(\"RSA\")\n",
    "        # difference_files.append(hex_string)\n",
    "    dataset.append(difference_files)\n",
    "    df1 = pd.DataFrame(difference_files)\n",
    "    df1.to_csv(f'output_{c}.csv',index=False)\n",
    "    c = c+1\n",
    "\n"
   ]
  },
  {
   "cell_type": "code",
   "execution_count": 4,
   "id": "645b55b3-6e93-4ed2-b937-395a0886f92d",
   "metadata": {},
   "outputs": [
    {
     "name": "stdout",
     "output_type": "stream",
     "text": [
      "original string:   valetism grecomania umbrina physiotype testicardinate nonseismic songbooks peritrichous chetive subtotem\n",
      "encrypted string:  b'sS\\xc4#nslu\\x9cc\\x91\\xe8\\xaf\\xe4v\\xd4\\x95iP\\xf0\\xcb\\x99=\\x19\\x1b,\\x9e\\xeb\\xfe\\x80\\xf7sq\\x82P\\xdd\\x08\\x08\\x8c\\x14D\\x0cA\\xa5R\\x86\\xefM\\xd2\\x8f\\xf8\\x0c#=S\\xd4\"\\xd95+\\xbe\\x8b\\xe0\\x04:_\\x1d\\x9f\\x80\\xaezT;%\\x16\\x16\\x9f\\x1f\\x8a=\\xd5\\xdc\\x9f\\xfd\\xff9\\xe0\\xadb\\xe6\\xaaL\\xdb\\xd8j\\xc9\\n\\x8e\\x0f~\\x19\\xbcR\\xcfA\\xc8\\xd8\\x92\\r:\\xbat?7\\xa4M\\xbd\\xee\\x14\\x14\\xcc\\xe3?g\\xbd\\n\\n\\xb8'\n",
      "decrypted string:   valetism grecomania umbrina physiotype testicardinate nonseismic songbooks peritrichous chetive subtotem\n"
     ]
    }
   ],
   "source": [
    "import rsa\n",
    "\n",
    "publicKey, privateKey = rsa.newkeys(1024)\n",
    "\n",
    "encMessage = rsa.encrypt(s.encode(), \n",
    "                         publicKey)\n",
    "\n",
    "print(\"original string: \", s)\n",
    "print(\"encrypted string: \", encMessage)\n",
    "\n",
    "decMessage = rsa.decrypt(encMessage, privateKey).decode()\n",
    "\n",
    "print(\"decrypted string: \", decMessage)\n",
    "\n"
   ]
  },
  {
   "cell_type": "code",
   "execution_count": 5,
   "id": "9464cc9a-fc28-46b0-89d9-9313a50fece6",
   "metadata": {},
   "outputs": [
    {
     "name": "stdout",
     "output_type": "stream",
     "text": [
      "<class 'str'>\n",
      "b' minks dynamometers cuadrillero caudocephalad electrothermic phototypic semiexternalized sexologies stuntist minny'\n",
      "0x59539cc2c7c0\n"
     ]
    }
   ],
   "source": [
    "x = \"20 6d 69 6e 6b 73 20 64 796e616d6f6d6574657273206375616472696c6c65726f20636175646f63657068616c616420656c656374726f746865726d69632070686f746f74797069632073656d6965787465726e616c697a6564207365786f6c6f67696573207374756e74697374206d696e6e79\"\n",
    "\n",
    "# Print the type of 'x'\n",
    "print(type(x))  # This will give <class 'str'>\n",
    "\n",
    "# You can print the hex version of the content (in case of a string)\n",
    "x_bytes = bytes.fromhex(x)\n",
    "print(x_bytes)\n",
    "\n",
    "print(hex(id(type(x))))"
   ]
  },
  {
   "cell_type": "code",
   "execution_count": 6,
   "id": "ab380cae-2217-4831-9922-f208e6351735",
   "metadata": {},
   "outputs": [
    {
     "name": "stdout",
     "output_type": "stream",
     "text": [
      "length: 6\n",
      "                                                                                                                                                                            0  \\\n",
      "0  [[F0, 7C, 32, D6, C2, 41, 54, CF], [F0, 7C, 32, D6, C2, 41, 54, CF], [F0, 7C, 32, D6, C2, 41, 54, CF], [00, 00, 00, 00, 00, 00, 00, 00], [00, 00, 00, 00, 00, 00, 00, 00]]   \n",
      "\n",
      "                                                                                                                                          1  \\\n",
      "0  [[00, 00, 00, 00, 00, 00, 00, 00], [00, 00, 00, 00, 00, 00, 00, 00], [F0, 7C, 32, D6, C2, 41, 54, CF], [00, 00, 00, 00, 00, 00, 00, 00]]   \n",
      "\n",
      "                                                                                                        2  \\\n",
      "0  [[00, 00, 00, 00, 00, 00, 00, 00], [F0, 7C, 32, D6, C2, 41, 54, CF], [F0, 7C, 32, D6, C2, 41, 54, CF]]   \n",
      "\n",
      "                                                                      3  \\\n",
      "0  [[F0, 7C, 32, D6, C2, 41, 54, CF], [00, 00, 00, 00, 00, 00, 00, 00]]   \n",
      "\n",
      "                                    4  \n",
      "0  [[F0, 7C, 32, D6, C2, 41, 54, CF]]  \n"
     ]
    }
   ],
   "source": [
    "# Assuming 'hex_matrix' is the 2D list we created earlier\n",
    "\n",
    "# Convert hex values to integers, perform XOR, then convert back to hex\n",
    "pd.set_option('display.max_colwidth',None)\n",
    "pd.set_option('display.max_rows',None)\n",
    "difference_files =[]\n",
    "difference_file_n=[]\n",
    "hex_matrix = [\n",
    "['AF', 'C2', '37', '1B', 'F4', '14', '7E', '4A'],\n",
    "['5F', 'BE', '05', 'CD', '36', '55', '2A', '85'],\n",
    "['AF', 'C2', '37', '1B', 'F4', '14', '7E', '4A'],\n",
    "['5F', 'BE', '05', 'CD', '36', '55', '2A', '85'],\n",
    "['5F', 'BE', '05', 'CD', '36', '55', '2A', '85'],\n",
    "['5F', 'BE', '05', 'CD', '36', '55', '2A', '85'],\n",
    "]\n",
    "n = len(hex_matrix)\n",
    "print(\"length:\",n)\n",
    "\n",
    "for i in range(0,n-1):\n",
    "    xor_result = []\n",
    "    for i in range(len(hex_matrix) - 1):\n",
    "        row_xor = [hex(int(hex_matrix[i][j], 16) ^ int(hex_matrix[i+1][j], 16))[2:].upper().zfill(2)\n",
    "                   for j in range(len(hex_matrix[i]))]\n",
    "        xor_result.append(row_xor)\n",
    "    difference_file_n.append(xor_result)\n",
    "    hex_matrix = xor_result\n",
    "difference_files.append(difference_file_n)\n",
    "df1 = pd.DataFrame(difference_files)\n",
    "print(df1)"
   ]
  },
  {
   "cell_type": "code",
   "execution_count": null,
   "id": "656bf2d5-9de2-4371-a444-dad5294ca51c",
   "metadata": {},
   "outputs": [],
   "source": []
  },
  {
   "cell_type": "code",
   "execution_count": null,
   "id": "caebc0e0-71cf-4809-97fe-a3bcfd6ffe66",
   "metadata": {},
   "outputs": [],
   "source": []
  },
  {
   "cell_type": "code",
   "execution_count": 7,
   "id": "0d29fff3-5161-40cb-a9bb-391d1de87c29",
   "metadata": {},
   "outputs": [
    {
     "name": "stdout",
     "output_type": "stream",
     "text": [
      "0    1.0\n",
      "1    3.0\n",
      "2    5.0\n",
      "3    NaN\n",
      "4    6.0\n",
      "5    8.0\n",
      "dtype: float64\n"
     ]
    }
   ],
   "source": [
    "import numpy as np\n",
    "import pandas as pd\n",
    "# series - one dimensional labeled array holding data of any type\n",
    "# dataframe - two dimensional data structure that holds data like a two-dimension array or a table with rows and columns \n",
    "\n",
    "s = pd.Series([1, 3, 5, np.nan, 6, 8])\n",
    "print(s)"
   ]
  },
  {
   "cell_type": "code",
   "execution_count": 8,
   "id": "0f34da82-7ad0-467b-86c1-9bba0ddf969c",
   "metadata": {},
   "outputs": [
    {
     "data": {
      "text/plain": [
       "DatetimeIndex(['2013-01-01', '2013-01-02', '2013-01-03', '2013-01-04',\n",
       "               '2013-01-05', '2013-01-06'],\n",
       "              dtype='datetime64[ns]', freq='D')"
      ]
     },
     "execution_count": 8,
     "metadata": {},
     "output_type": "execute_result"
    }
   ],
   "source": [
    "dates = pd.date_range(\"20130101\",periods=6)\n",
    "dates"
   ]
  },
  {
   "cell_type": "code",
   "execution_count": 9,
   "id": "526b5a14-3551-4b8d-bf2a-87e5a9017d64",
   "metadata": {},
   "outputs": [
    {
     "data": {
      "text/html": [
       "<div>\n",
       "<style scoped>\n",
       "    .dataframe tbody tr th:only-of-type {\n",
       "        vertical-align: middle;\n",
       "    }\n",
       "\n",
       "    .dataframe tbody tr th {\n",
       "        vertical-align: top;\n",
       "    }\n",
       "\n",
       "    .dataframe thead th {\n",
       "        text-align: right;\n",
       "    }\n",
       "</style>\n",
       "<table border=\"1\" class=\"dataframe\">\n",
       "  <thead>\n",
       "    <tr style=\"text-align: right;\">\n",
       "      <th></th>\n",
       "      <th>A</th>\n",
       "      <th>B</th>\n",
       "      <th>C</th>\n",
       "      <th>D</th>\n",
       "    </tr>\n",
       "  </thead>\n",
       "  <tbody>\n",
       "    <tr>\n",
       "      <th>2013-01-01</th>\n",
       "      <td>1.303695</td>\n",
       "      <td>0.009779</td>\n",
       "      <td>-1.018932</td>\n",
       "      <td>0.840292</td>\n",
       "    </tr>\n",
       "    <tr>\n",
       "      <th>2013-01-02</th>\n",
       "      <td>-0.811239</td>\n",
       "      <td>-0.011876</td>\n",
       "      <td>-1.136959</td>\n",
       "      <td>-1.329542</td>\n",
       "    </tr>\n",
       "    <tr>\n",
       "      <th>2013-01-03</th>\n",
       "      <td>1.024959</td>\n",
       "      <td>-0.130292</td>\n",
       "      <td>1.392290</td>\n",
       "      <td>0.820608</td>\n",
       "    </tr>\n",
       "    <tr>\n",
       "      <th>2013-01-04</th>\n",
       "      <td>0.719587</td>\n",
       "      <td>0.030695</td>\n",
       "      <td>-0.010831</td>\n",
       "      <td>0.255452</td>\n",
       "    </tr>\n",
       "    <tr>\n",
       "      <th>2013-01-05</th>\n",
       "      <td>0.572122</td>\n",
       "      <td>-1.097964</td>\n",
       "      <td>-1.866521</td>\n",
       "      <td>1.221686</td>\n",
       "    </tr>\n",
       "    <tr>\n",
       "      <th>2013-01-06</th>\n",
       "      <td>-0.016725</td>\n",
       "      <td>-1.228621</td>\n",
       "      <td>1.601668</td>\n",
       "      <td>-0.178143</td>\n",
       "    </tr>\n",
       "  </tbody>\n",
       "</table>\n",
       "</div>"
      ],
      "text/plain": [
       "                   A         B         C         D\n",
       "2013-01-01  1.303695  0.009779 -1.018932  0.840292\n",
       "2013-01-02 -0.811239 -0.011876 -1.136959 -1.329542\n",
       "2013-01-03  1.024959 -0.130292  1.392290  0.820608\n",
       "2013-01-04  0.719587  0.030695 -0.010831  0.255452\n",
       "2013-01-05  0.572122 -1.097964 -1.866521  1.221686\n",
       "2013-01-06 -0.016725 -1.228621  1.601668 -0.178143"
      ]
     },
     "execution_count": 9,
     "metadata": {},
     "output_type": "execute_result"
    }
   ],
   "source": [
    "df = pd.DataFrame(np.random.randn(6, 4), index=dates, columns=list(\"ABCD\"))\n",
    "df"
   ]
  },
  {
   "cell_type": "code",
   "execution_count": null,
   "id": "4fc634e5-00ca-4d91-a4a2-12933ee31a7e",
   "metadata": {},
   "outputs": [],
   "source": []
  }
 ],
 "metadata": {
  "kernelspec": {
   "display_name": "Python 3 (ipykernel)",
   "language": "python",
   "name": "python3"
  },
  "language_info": {
   "codemirror_mode": {
    "name": "ipython",
    "version": 3
   },
   "file_extension": ".py",
   "mimetype": "text/x-python",
   "name": "python",
   "nbconvert_exporter": "python",
   "pygments_lexer": "ipython3",
   "version": "3.10.12"
  }
 },
 "nbformat": 4,
 "nbformat_minor": 5
}
