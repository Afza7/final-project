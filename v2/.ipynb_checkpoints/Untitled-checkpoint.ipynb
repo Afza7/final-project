{
 "cells": [
  {
   "cell_type": "code",
   "execution_count": 2,
   "id": "be5fb76a-6c6f-4481-9d45-c6e6fe25b638",
   "metadata": {},
   "outputs": [],
   "source": [
    "hex_matrix = [\n",
    "['03', 'F0', '95', 'A3', '80', '09', 'EB', '59'],\n",
    "['07', '8A', '1F', '8A', 'E7', '1E', '21', '65'],\n",
    "['49', 'EF', '1D', '7E', 'F1', '49', '04', 'BB'],\n",
    "['B9', '65', '48', '2C', '65', 'AE', 'CE', '37'],\n",
    "['62', '3D', 'BE', 'EA', '44', '81', '5B', '73'],\n",
    "['02', '5F', 'E9', '0B', 'C8', '6B', '82', '49'],\n",
    "['0A', '33', 'FD', 'D9', '67', '89', '54', '74'],\n",
    "['B5', '5F', '3E', '2D', '1D', '4C', 'BA', '9F'],\n",
    "['40', '56', '6C', '08', '4A', '38', '90', '00'],\n",
    "['D0', '3A', '8C', '6D', '1B', 'AA', '31', 'DC'],\n",
    "['87', 'BE', 'D0', '7D', '37', '28', '54', '6B'],\n",
    "['53', '39', 'C9', 'D9', '9F', '63', '37', '43'],\n",
    "['E1', '54', '11', '51', 'FE', 'EF', '23', '6B'],\n",
    "['0F', '86', '6F', 'B8', 'B7', 'D7', 'BA', 'F6'],\n",
    "['FE', 'E5', '34', '16', 'F9', 'A1', '06', 'C6'],\n",
    "['78', 'DF', '61', 'E6', '79', 'F7', '48', '23'],\n",
    "['05', '25', '5F', '01', '5F', '0B', '72', '8D'],\n",
    "['77', 'A0', '52', '69', 'EE', '84', 'B0', '63'],\n",
    "['5A', '7B', 'D7', 'D4', '64', '61', '3A', '80'],\n",
    "['99', '5C', '04', '9E', '13', '63', 'B5', '48'],\n",
    "['E0', 'D6', '15', 'B3', '6E', '25', '58', '93'],\n",
    "['14', '9D', 'CA', '2D', '1B', '5D', '42', 'FF'],\n",
    "['17', '45', 'FF', '5C', '2C', 'C3', '2A', '2A'],\n",
    "['2F', '7B', '90', '9B', '1E', 'E7', '43', '81'],\n",
    "['E6', '98', '48', '68', 'B3', 'BA', '94', 'A6'],\n",
    "['32', '97', 'E0', 'A4', '25', 'D7', '46', 'D3'],\n",
    "['C4', '51', '69', 'A2', '8C', '2A', '4B', '06'],\n",
    "['C5', 'C0', '94', '78', '29', '30', '97', '96'],\n",
    "['FB', '14', '17', 'C2', '30', '93', '29', '50'],\n",
    "['41', '47', '01', 'B1', 'A6', 'A1', 'FF', 'BD'],\n",
    "['01', '75', '12', '75', '21', '09', '92', '35'],\n",
    "['B9', '07', 'AA', '51', 'D1', '43', 'AB', '1C']]\n"
   ]
  },
  {
   "cell_type": "code",
   "execution_count": 5,
   "id": "9e9db9fc-56e2-4ba8-8138-b55dedd6d42f",
   "metadata": {},
   "outputs": [
    {
     "name": "stdout",
     "output_type": "stream",
     "text": [
      "Length: 1\n"
     ]
    }
   ],
   "source": [
    "difference_files=[]\n",
    "n = len(hex_matrix)\n",
    "print(\"Length:\", n)\n",
    "\n",
    "\n",
    "for i in range(0,n-1):\n",
    "    xor_result = []\n",
    "    difference_file_n=[]\n",
    "    for i in range(len(hex_matrix) - 1):\n",
    "        row_xor = [hex(int(hex_matrix[i][j], 16) ^ int(hex_matrix[i+1][j], 16))[2:].upper().zfill(2)\n",
    "                   for j in range(len(hex_matrix[i]))]\n",
    "        xor_result.append(row_xor)\n",
    "    difference_file_n.append(xor_result)\n",
    "    hex_matrix = xor_result\n",
    "    difference_files.append(difference_file_n)\n",
    "for i in difference_files:\n",
    "    print(i)"
   ]
  },
  {
   "cell_type": "code",
   "execution_count": null,
   "id": "3d0c2e8a-fbb2-46f8-b627-9a0d8d1d57b4",
   "metadata": {},
   "outputs": [],
   "source": []
  }
 ],
 "metadata": {
  "kernelspec": {
   "display_name": "Python 3 (ipykernel)",
   "language": "python",
   "name": "python3"
  },
  "language_info": {
   "codemirror_mode": {
    "name": "ipython",
    "version": 3
   },
   "file_extension": ".py",
   "mimetype": "text/x-python",
   "name": "python",
   "nbconvert_exporter": "python",
   "pygments_lexer": "ipython3",
   "version": "3.10.12"
  }
 },
 "nbformat": 4,
 "nbformat_minor": 5
}
